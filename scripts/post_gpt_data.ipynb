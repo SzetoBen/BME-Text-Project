{
 "cells": [
  {
   "cell_type": "code",
   "execution_count": 2,
   "id": "b4b1f036",
   "metadata": {},
   "outputs": [],
   "source": [
    "import pandas as pd\n",
    "import numpy as np\n"
   ]
  },
  {
   "cell_type": "code",
   "execution_count": 5,
   "id": "58b32587",
   "metadata": {},
   "outputs": [],
   "source": [
    "df = pd.read_csv('/Users/edwardzhang/Documents/college/4th year sem 1/Data Science Project/Project 1/GenerativeAI tweets.csv')"
   ]
  },
  {
   "cell_type": "code",
   "execution_count": 6,
   "id": "5bdf564d",
   "metadata": {},
   "outputs": [
    {
     "data": {
      "text/html": [
       "<div>\n",
       "<style scoped>\n",
       "    .dataframe tbody tr th:only-of-type {\n",
       "        vertical-align: middle;\n",
       "    }\n",
       "\n",
       "    .dataframe tbody tr th {\n",
       "        vertical-align: top;\n",
       "    }\n",
       "\n",
       "    .dataframe thead th {\n",
       "        text-align: right;\n",
       "    }\n",
       "</style>\n",
       "<table border=\"1\" class=\"dataframe\">\n",
       "  <thead>\n",
       "    <tr style=\"text-align: right;\">\n",
       "      <th></th>\n",
       "      <th>Unnamed: 0</th>\n",
       "      <th>Datetime</th>\n",
       "      <th>Tweet Id</th>\n",
       "      <th>Text</th>\n",
       "      <th>Username</th>\n",
       "    </tr>\n",
       "  </thead>\n",
       "  <tbody>\n",
       "    <tr>\n",
       "      <th>0</th>\n",
       "      <td>0</td>\n",
       "      <td>2023-04-19 21:27:19+00:00</td>\n",
       "      <td>1648800467206672384</td>\n",
       "      <td>From Studio Gangster to Synthetic Gangster 🎤.....</td>\n",
       "      <td>resembleai</td>\n",
       "    </tr>\n",
       "    <tr>\n",
       "      <th>1</th>\n",
       "      <td>1</td>\n",
       "      <td>2023-04-19 21:27:09+00:00</td>\n",
       "      <td>1648800425540476929</td>\n",
       "      <td>Took me some time to find this. I build this #...</td>\n",
       "      <td>devaanparbhoo</td>\n",
       "    </tr>\n",
       "    <tr>\n",
       "      <th>2</th>\n",
       "      <td>2</td>\n",
       "      <td>2023-04-19 21:26:57+00:00</td>\n",
       "      <td>1648800376479715328</td>\n",
       "      <td>Mind blowing next wave #generativeai  platform...</td>\n",
       "      <td>timreha</td>\n",
       "    </tr>\n",
       "    <tr>\n",
       "      <th>3</th>\n",
       "      <td>3</td>\n",
       "      <td>2023-04-19 21:26:49+00:00</td>\n",
       "      <td>1648800341193027584</td>\n",
       "      <td>Open Source Generative AI Image Specialist Sta...</td>\n",
       "      <td>VirtReview</td>\n",
       "    </tr>\n",
       "    <tr>\n",
       "      <th>4</th>\n",
       "      <td>4</td>\n",
       "      <td>2023-04-19 21:25:00+00:00</td>\n",
       "      <td>1648799883934203905</td>\n",
       "      <td>Are you an #HR leader considering which future...</td>\n",
       "      <td>FrozeElle</td>\n",
       "    </tr>\n",
       "  </tbody>\n",
       "</table>\n",
       "</div>"
      ],
      "text/plain": [
       "   Unnamed: 0                   Datetime             Tweet Id  \\\n",
       "0           0  2023-04-19 21:27:19+00:00  1648800467206672384   \n",
       "1           1  2023-04-19 21:27:09+00:00  1648800425540476929   \n",
       "2           2  2023-04-19 21:26:57+00:00  1648800376479715328   \n",
       "3           3  2023-04-19 21:26:49+00:00  1648800341193027584   \n",
       "4           4  2023-04-19 21:25:00+00:00  1648799883934203905   \n",
       "\n",
       "                                                Text       Username  \n",
       "0  From Studio Gangster to Synthetic Gangster 🎤.....     resembleai  \n",
       "1  Took me some time to find this. I build this #...  devaanparbhoo  \n",
       "2  Mind blowing next wave #generativeai  platform...        timreha  \n",
       "3  Open Source Generative AI Image Specialist Sta...     VirtReview  \n",
       "4  Are you an #HR leader considering which future...      FrozeElle  "
      ]
     },
     "execution_count": 6,
     "metadata": {},
     "output_type": "execute_result"
    }
   ],
   "source": [
    "df.head()"
   ]
  },
  {
   "cell_type": "code",
   "execution_count": 7,
   "id": "a8f80768",
   "metadata": {},
   "outputs": [],
   "source": [
    "df = df['Text']"
   ]
  },
  {
   "cell_type": "code",
   "execution_count": 8,
   "id": "aae2ba73",
   "metadata": {},
   "outputs": [
    {
     "data": {
      "text/plain": [
       "0    From Studio Gangster to Synthetic Gangster 🎤.....\n",
       "1    Took me some time to find this. I build this #...\n",
       "2    Mind blowing next wave #generativeai  platform...\n",
       "3    Open Source Generative AI Image Specialist Sta...\n",
       "4    Are you an #HR leader considering which future...\n",
       "Name: Text, dtype: object"
      ]
     },
     "execution_count": 8,
     "metadata": {},
     "output_type": "execute_result"
    }
   ],
   "source": [
    "df.head()"
   ]
  },
  {
   "cell_type": "code",
   "execution_count": 12,
   "id": "548955ba",
   "metadata": {},
   "outputs": [
    {
     "data": {
      "text/plain": [
       "0"
      ]
     },
     "execution_count": 12,
     "metadata": {},
     "output_type": "execute_result"
    }
   ],
   "source": [
    "df.isna().sum()"
   ]
  },
  {
   "cell_type": "code",
   "execution_count": 13,
   "id": "c135bed3",
   "metadata": {},
   "outputs": [],
   "source": [
    "df.to_csv('generativeAI_tweets_cleaned.csv')\n"
   ]
  },
  {
   "cell_type": "code",
   "execution_count": null,
   "id": "1476890f",
   "metadata": {},
   "outputs": [],
   "source": []
  }
 ],
 "metadata": {
  "kernelspec": {
   "display_name": "base",
   "language": "python",
   "name": "python3"
  },
  "language_info": {
   "codemirror_mode": {
    "name": "ipython",
    "version": 3
   },
   "file_extension": ".py",
   "mimetype": "text/x-python",
   "name": "python",
   "nbconvert_exporter": "python",
   "pygments_lexer": "ipython3",
   "version": "3.12.4"
  }
 },
 "nbformat": 4,
 "nbformat_minor": 5
}
